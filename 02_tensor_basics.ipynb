{
 "cells": [
  {
   "cell_type": "code",
   "execution_count": 1,
   "metadata": {},
   "outputs": [],
   "source": [
    "import torch"
   ]
  },
  {
   "cell_type": "code",
   "execution_count": 2,
   "metadata": {},
   "outputs": [
    {
     "name": "stdout",
     "output_type": "stream",
     "text": [
      "tensor([0.])\n"
     ]
    }
   ],
   "source": [
    "# Everything in pytorch is based on Tensor operations.\n",
    "# A tensor can have different dimensions\n",
    "# so it can be 1d, 2d, or even 3d and higher\n",
    "\n",
    "# scalar, vector, matrix, tensor\n",
    "\n",
    "# torch.empty(size): uninitiallized\n",
    "x = torch.empty(1) # scalar\n",
    "print(x)"
   ]
  },
  {
   "cell_type": "code",
   "execution_count": 3,
   "metadata": {},
   "outputs": [
    {
     "name": "stdout",
     "output_type": "stream",
     "text": [
      "tensor([0., 0., 0.])\n"
     ]
    }
   ],
   "source": [
    "x = torch.empty(3) # vector, 1D\n",
    "print(x)"
   ]
  },
  {
   "cell_type": "code",
   "execution_count": 4,
   "metadata": {},
   "outputs": [
    {
     "name": "stdout",
     "output_type": "stream",
     "text": [
      "tensor([[0., 0., 0.],\n",
      "        [0., 0., 0.]])\n"
     ]
    }
   ],
   "source": [
    "x = torch.empty(2,3) # matrix, 2D\n",
    "print(x)"
   ]
  },
  {
   "cell_type": "code",
   "execution_count": 5,
   "metadata": {},
   "outputs": [
    {
     "name": "stdout",
     "output_type": "stream",
     "text": [
      "tensor([[[0., 0., 0.],\n",
      "         [0., 0., 0.]],\n",
      "\n",
      "        [[0., 0., 0.],\n",
      "         [0., 0., 0.]]])\n"
     ]
    }
   ],
   "source": [
    "x = torch.empty(2,2,3) # tensor, 3 dimensions\n",
    "print(x)"
   ]
  },
  {
   "cell_type": "code",
   "execution_count": 6,
   "metadata": {},
   "outputs": [
    {
     "name": "stdout",
     "output_type": "stream",
     "text": [
      "tensor([[[[0., 0., 0.],\n",
      "          [0., 0., 0.]],\n",
      "\n",
      "         [[0., 0., 0.],\n",
      "          [0., 0., 0.]]],\n",
      "\n",
      "\n",
      "        [[[0., 0., 0.],\n",
      "          [0., 0., 0.]],\n",
      "\n",
      "         [[0., 0., 0.],\n",
      "          [0., 0., 0.]]]])\n"
     ]
    }
   ],
   "source": [
    "x = torch.empty(2,2,2,3) # tensor, 4 dimensions\n",
    "# dimension will be like 1) batch size 2) dimension of each batch 3) n rows 4) n cols\n",
    "print(x)"
   ]
  },
  {
   "cell_type": "code",
   "execution_count": 7,
   "metadata": {},
   "outputs": [
    {
     "name": "stdout",
     "output_type": "stream",
     "text": [
      "tensor([[0.7576, 0.2793, 0.4031],\n",
      "        [0.7347, 0.0293, 0.7999],\n",
      "        [0.3971, 0.7544, 0.5695],\n",
      "        [0.4388, 0.6387, 0.5247],\n",
      "        [0.6826, 0.3051, 0.4635]])\n"
     ]
    }
   ],
   "source": [
    "torch.manual_seed(1)\n",
    "# torch.rand(size): random numbers [0, 1]\n",
    "x = torch.rand(5, 3)\n",
    "print(x)"
   ]
  },
  {
   "cell_type": "code",
   "execution_count": 8,
   "metadata": {},
   "outputs": [
    {
     "name": "stdout",
     "output_type": "stream",
     "text": [
      "tensor([[0., 0., 0.],\n",
      "        [0., 0., 0.],\n",
      "        [0., 0., 0.],\n",
      "        [0., 0., 0.],\n",
      "        [0., 0., 0.]])\n",
      "torch.Size([5, 3])\n",
      "torch.Size([5, 3])\n",
      "torch.float32\n",
      "<class 'torch.Tensor'>\n"
     ]
    }
   ],
   "source": [
    "# torch.zeros(size), fill with 0\n",
    "# torch.ones(size), fill with 1\n",
    "x = torch.zeros(5, 3)\n",
    "print(x)\n",
    "\n",
    "# check size\n",
    "print(x.size())\n",
    "print(x.shape)\n",
    "print(x.dtype)\n",
    "print(type(x))"
   ]
  },
  {
   "cell_type": "code",
   "execution_count": 9,
   "metadata": {},
   "outputs": [
    {
     "name": "stdout",
     "output_type": "stream",
     "text": [
      "torch.Size([2])\n",
      "tensor([[5.5000, 3.0000],\n",
      "        [1.0000, 3.0000]])\n"
     ]
    }
   ],
   "source": [
    "# construct from data\n",
    "x = torch.tensor([5.5, 3])\n",
    "print(x.size())\n",
    "\n",
    "x = torch.tensor([5.5, 3, 1, 3])\n",
    "print(x.reshape(2,2))"
   ]
  },
  {
   "cell_type": "code",
   "execution_count": 10,
   "metadata": {},
   "outputs": [
    {
     "name": "stdout",
     "output_type": "stream",
     "text": [
      "tensor([[1.1106, 0.8863],\n",
      "        [0.6960, 1.3533]])\n"
     ]
    },
    {
     "data": {
      "text/plain": [
       "tensor([[1.1106, 0.8863],\n",
       "        [0.6960, 1.3533]])"
      ]
     },
     "execution_count": 10,
     "metadata": {},
     "output_type": "execute_result"
    }
   ],
   "source": [
    "# Operations\n",
    "y = torch.rand(2, 2)\n",
    "x = torch.rand(2, 2)\n",
    "# elementwise addition\n",
    "z = x + y\n",
    "print(z)\n",
    "torch.add(x,y)"
   ]
  },
  {
   "cell_type": "code",
   "execution_count": 11,
   "metadata": {},
   "outputs": [
    {
     "name": "stdout",
     "output_type": "stream",
     "text": [
      "tensor([[0.4550, 0.5725],\n",
      "        [0.4980, 0.9371]])\n",
      "tensor([[1.1106, 0.8863],\n",
      "        [0.6960, 1.3533]])\n"
     ]
    }
   ],
   "source": [
    "# in place addition, everythin with a trailing underscore is an inplace operation\n",
    "# i.e. it will modify the variable\n",
    "print(y)\n",
    "y.add_(x)\n",
    "print(y)"
   ]
  },
  {
   "cell_type": "code",
   "execution_count": 12,
   "metadata": {},
   "outputs": [
    {
     "name": "stdout",
     "output_type": "stream",
     "text": [
      "tensor([[-0.4550, -0.5725],\n",
      "        [-0.4980, -0.9371]])\n",
      "tensor([[-0.4550, -0.5725],\n",
      "        [-0.4980, -0.9371]])\n"
     ]
    }
   ],
   "source": [
    "# substraction\n",
    "z = x - y\n",
    "print(z)\n",
    "z = torch.sub(x, y)\n",
    "print(z)"
   ]
  },
  {
   "cell_type": "code",
   "execution_count": 13,
   "metadata": {},
   "outputs": [
    {
     "name": "stdout",
     "output_type": "stream",
     "text": [
      "tensor([[0.7281, 0.2781],\n",
      "        [0.1378, 0.5632]])\n",
      "tensor([[0.7281, 0.2781],\n",
      "        [0.1378, 0.5632]])\n"
     ]
    }
   ],
   "source": [
    "z = x * y\n",
    "print(z)\n",
    "z = torch.mul(x, y)\n",
    "print(z)"
   ]
  },
  {
   "cell_type": "code",
   "execution_count": 14,
   "metadata": {},
   "outputs": [
    {
     "name": "stdout",
     "output_type": "stream",
     "text": [
      "tensor([[0.5903, 0.3541],\n",
      "        [0.2845, 0.3075]])\n",
      "tensor([[0.5903, 0.3541],\n",
      "        [0.2845, 0.3075]])\n"
     ]
    }
   ],
   "source": [
    "# division\n",
    "z = x / y\n",
    "print(z)\n",
    "z = torch.div(x,y)\n",
    "print(z)"
   ]
  },
  {
   "cell_type": "code",
   "execution_count": 15,
   "metadata": {},
   "outputs": [
    {
     "name": "stdout",
     "output_type": "stream",
     "text": [
      "tensor([[0.2843, 0.3398, 0.5239],\n",
      "        [0.7981, 0.7718, 0.0112],\n",
      "        [0.8100, 0.6397, 0.9743],\n",
      "        [0.8300, 0.0444, 0.0246],\n",
      "        [0.2588, 0.9391, 0.4167]])\n",
      "tensor([0.2843, 0.7981, 0.8100, 0.8300, 0.2588])\n",
      "tensor([0.7981, 0.7718, 0.0112])\n",
      "tensor(0.7718)\n"
     ]
    }
   ],
   "source": [
    "# Slicing\n",
    "x = torch.rand(5,3)\n",
    "print(x)\n",
    "print(x[:, 0]) # all rows, column 0\n",
    "print(x[1, :]) # row 1, all columns\n",
    "print(x[1,1]) # element at 1, 1"
   ]
  },
  {
   "cell_type": "markdown",
   "metadata": {},
   "source": [
    "The `torch.transpose(dim0, dim1)` function swaps two dimensions (or axes) of a tensor. It is a generalization of matrix transposition, allowing you to permute arbitrary dimensions of higher-dimensional tensors.\n",
    "\n",
    "Here’s an explanation of your observations:\n",
    "\n",
    "\n",
    "#### How `torch.transpose(dim0, dim1)` Works:\n",
    "Transpose for 2D Matrices: For a 2D tensor (matrix), `transpose(0, 1)` is equivalent to the mathematical transpose, swapping rows and columns.\n",
    "\n",
    "General Case for N-Dimensional Tensors:\n",
    "\n",
    "Given a tensor of shape `(D0, D1, ..., DN)`, calling transpose`(dim0, dim1)` swaps the axes dim0 and dim1.\n",
    "Other dimensions remain unchanged.\n",
    "Negative indices `(e.g., -1, -2)` count dimensions from the end: -1 is the last dimension, -2 is the second-to-last dimension, and so on."
   ]
  },
  {
   "cell_type": "markdown",
   "metadata": {},
   "source": [
    "#### Why Does x.transpose(0, 1) and x.transpose(-2, -1) Work?\n",
    "For your matrix x = torch.rand(5, 3):\n",
    "\n",
    "Shape of x is (5, 3) where:\n",
    "Dimension 0 corresponds to rows (5 rows).\n",
    "Dimension 1 corresponds to columns (3 columns)."
   ]
  },
  {
   "cell_type": "markdown",
   "metadata": {},
   "source": [
    "#### Why Does x.transpose(0, 0) or x.transpose(dim, dim) Return the Original Matrix?\n",
    "When the same dimension is specified for both arguments of transpose(dim0, dim1), no swapping occurs. Effectively, it’s a no-op because swapping a dimension with itself doesn't change the tensor.\n",
    "\n",
    "For example:\n",
    "\n",
    "- x.transpose(0, 0): Swaps dimension 0 with itself → No effect.\n",
    "- x.transpose(1, 1): Swaps dimension 1 with itself → No effect.\n",
    "- x.transpose(-1, -1): Swaps the last dimension with itself → No effect.\n",
    "- x.transpose(-2, -2): Swaps the second-to-last dimension with itself → No effect."
   ]
  },
  {
   "cell_type": "code",
   "execution_count": 16,
   "metadata": {},
   "outputs": [
    {
     "name": "stdout",
     "output_type": "stream",
     "text": [
      "tensor([0.7981, 0.7718, 0.0112])\n",
      "tensor([[0.2843, 0.7981, 0.8100, 0.8300, 0.2588],\n",
      "        [0.3398, 0.7718, 0.6397, 0.0444, 0.9391],\n",
      "        [0.5239, 0.0112, 0.9743, 0.0246, 0.4167]])\n"
     ]
    }
   ],
   "source": [
    "print(x[1]) # second row\n",
    "print(x.transpose(0,1)) #transpose  "
   ]
  },
  {
   "cell_type": "code",
   "execution_count": 17,
   "metadata": {},
   "outputs": [
    {
     "name": "stdout",
     "output_type": "stream",
     "text": [
      "tensor([[0.2843, 0.7981, 0.8100, 0.8300, 0.2588],\n",
      "        [0.3398, 0.7718, 0.6397, 0.0444, 0.9391],\n",
      "        [0.5239, 0.0112, 0.9743, 0.0246, 0.4167]])\n"
     ]
    }
   ],
   "source": [
    "print(x.transpose(-2,-1)) #transpose"
   ]
  },
  {
   "cell_type": "code",
   "execution_count": 18,
   "metadata": {},
   "outputs": [
    {
     "name": "stdout",
     "output_type": "stream",
     "text": [
      "tensor([[0.2843, 0.3398, 0.5239],\n",
      "        [0.7981, 0.7718, 0.0112],\n",
      "        [0.8100, 0.6397, 0.9743],\n",
      "        [0.8300, 0.0444, 0.0246],\n",
      "        [0.2588, 0.9391, 0.4167]])\n"
     ]
    }
   ],
   "source": [
    "print(x.transpose(0,0)) #same matrix"
   ]
  },
  {
   "cell_type": "code",
   "execution_count": 19,
   "metadata": {},
   "outputs": [
    {
     "name": "stdout",
     "output_type": "stream",
     "text": [
      "tensor([[0.2843, 0.3398, 0.5239],\n",
      "        [0.7981, 0.7718, 0.0112],\n",
      "        [0.8100, 0.6397, 0.9743],\n",
      "        [0.8300, 0.0444, 0.0246],\n",
      "        [0.2588, 0.9391, 0.4167]])\n"
     ]
    }
   ],
   "source": [
    "print(x.transpose(1,1)) #same matrix"
   ]
  },
  {
   "cell_type": "code",
   "execution_count": 20,
   "metadata": {},
   "outputs": [
    {
     "name": "stdout",
     "output_type": "stream",
     "text": [
      "tensor([[0.2843, 0.3398, 0.5239],\n",
      "        [0.7981, 0.7718, 0.0112],\n",
      "        [0.8100, 0.6397, 0.9743],\n",
      "        [0.8300, 0.0444, 0.0246],\n",
      "        [0.2588, 0.9391, 0.4167]])\n"
     ]
    }
   ],
   "source": [
    "print(x.transpose(-1,-1)) #same matrix"
   ]
  },
  {
   "cell_type": "code",
   "execution_count": 21,
   "metadata": {},
   "outputs": [
    {
     "name": "stdout",
     "output_type": "stream",
     "text": [
      "tensor([[0.2843, 0.3398, 0.5239],\n",
      "        [0.7981, 0.7718, 0.0112],\n",
      "        [0.8100, 0.6397, 0.9743],\n",
      "        [0.8300, 0.0444, 0.0246],\n",
      "        [0.2588, 0.9391, 0.4167]])\n"
     ]
    }
   ],
   "source": [
    "print(x.transpose(-2,-2)) #same matrix"
   ]
  },
  {
   "cell_type": "code",
   "execution_count": 22,
   "metadata": {},
   "outputs": [
    {
     "name": "stdout",
     "output_type": "stream",
     "text": [
      "tensor(0.7718)\n",
      "0.77176833152771\n"
     ]
    }
   ],
   "source": [
    "# Get the actual value if only 1 element in your tensor\n",
    "print(x[1,1])\n",
    "print(x[1,1].item())"
   ]
  },
  {
   "cell_type": "code",
   "execution_count": 23,
   "metadata": {},
   "outputs": [
    {
     "name": "stdout",
     "output_type": "stream",
     "text": [
      "tensor([[ 0.1530, -0.4757, -1.8821, -0.7765],\n",
      "        [ 2.0242, -0.0865,  0.0981, -1.2150],\n",
      "        [ 1.5748, -0.6298,  2.4070,  0.2786],\n",
      "        [ 0.2468,  1.1843, -0.7282,  1.1633]])\n"
     ]
    }
   ],
   "source": [
    "# Reshape with torch.view()\n",
    "x = torch.randn(4, 4)\n",
    "print(x)"
   ]
  },
  {
   "cell_type": "code",
   "execution_count": 24,
   "metadata": {},
   "outputs": [
    {
     "name": "stdout",
     "output_type": "stream",
     "text": [
      "tensor([ 0.1530, -0.4757, -1.8821, -0.7765,  2.0242, -0.0865,  0.0981, -1.2150,\n",
      "         1.5748, -0.6298,  2.4070,  0.2786,  0.2468,  1.1843, -0.7282,  1.1633])\n"
     ]
    }
   ],
   "source": [
    "y = x.view(16)\n",
    "print(y)"
   ]
  },
  {
   "cell_type": "markdown",
   "metadata": {},
   "source": [
    "1. torch.view()\n",
    "- Purpose: Returns a new tensor with the same data but a different shape, provided the data layout in memory is contiguous.\n",
    "- Key Constraint: The input tensor must be contiguous in memory, meaning the data must be stored in a continuous block of memory.\n",
    "- Operation Type: Lightweight operation that avoids copying data when possible.\n",
    "\n",
    "2. torch.reshape()\n",
    "- Purpose: Returns a new tensor with the same data but a different shape. It is more flexible because it works even if the input tensor is not contiguous.\n",
    "- Key Advantage: If the input tensor is non-contiguous, reshape() will automatically create a copy of the data (if needed) to ensure the requested shape is valid.\n",
    "- Operation Type: May involve copying data if contiguity is not satisfied."
   ]
  },
  {
   "cell_type": "markdown",
   "metadata": {},
   "source": []
  },
  {
   "cell_type": "code",
   "execution_count": 25,
   "metadata": {},
   "outputs": [
    {
     "name": "stdout",
     "output_type": "stream",
     "text": [
      "tensor([[ 0.1530, -0.4757, -1.8821, -0.7765,  2.0242, -0.0865,  0.0981, -1.2150],\n",
      "        [ 1.5748, -0.6298,  2.4070,  0.2786,  0.2468,  1.1843, -0.7282,  1.1633]])\n"
     ]
    }
   ],
   "source": [
    "z = x.view(-1, 8)  # the size -1 is inferred from other dimensions\n",
    "# if -1 it pytorch will automatically determine the necessary size\n",
    "print(z)"
   ]
  },
  {
   "cell_type": "code",
   "execution_count": 26,
   "metadata": {},
   "outputs": [
    {
     "data": {
      "text/plain": [
       "tensor([[ 0.1530, -0.4757, -1.8821, -0.7765,  2.0242, -0.0865,  0.0981, -1.2150],\n",
       "        [ 1.5748, -0.6298,  2.4070,  0.2786,  0.2468,  1.1843, -0.7282,  1.1633]])"
      ]
     },
     "execution_count": 26,
     "metadata": {},
     "output_type": "execute_result"
    }
   ],
   "source": [
    "x.reshape(-1,8)"
   ]
  },
  {
   "cell_type": "markdown",
   "metadata": {},
   "source": [
    "`Contiguity` in PyTorch refers to how a tensor's data is stored in memory. A tensor is contiguous if the elements in its data are laid out in a single, uninterrupted block in memory, without any gaps or reordering.\n",
    "\n",
    "Example of a Contiguous and not contiguous Tensor:"
   ]
  },
  {
   "cell_type": "code",
   "execution_count": 27,
   "metadata": {},
   "outputs": [
    {
     "name": "stdout",
     "output_type": "stream",
     "text": [
      "True\n"
     ]
    }
   ],
   "source": [
    "import torch\n",
    "\n",
    "x = torch.tensor([[1, 2, 3], [4, 5, 6]])\n",
    "print(x.is_contiguous())  # True"
   ]
  },
  {
   "cell_type": "code",
   "execution_count": 28,
   "metadata": {},
   "outputs": [
    {
     "name": "stdout",
     "output_type": "stream",
     "text": [
      "False\n"
     ]
    }
   ],
   "source": [
    "x = torch.arange(6).reshape(2, 3)  # Contiguous tensor of shape (2, 3)\n",
    "y = x.permute(1, 0)  # Swap dimensions, now shape (3, 2)\n",
    "print(y.is_contiguous())  # False"
   ]
  },
  {
   "cell_type": "code",
   "execution_count": 29,
   "metadata": {},
   "outputs": [
    {
     "ename": "RuntimeError",
     "evalue": "view size is not compatible with input tensor's size and stride (at least one dimension spans across two contiguous subspaces). Use .reshape(...) instead.",
     "output_type": "error",
     "traceback": [
      "\u001b[1;31m---------------------------------------------------------------------------\u001b[0m",
      "\u001b[1;31mRuntimeError\u001b[0m                              Traceback (most recent call last)",
      "Cell \u001b[1;32mIn[29], line 1\u001b[0m\n\u001b[1;32m----> 1\u001b[0m \u001b[43my\u001b[49m\u001b[38;5;241;43m.\u001b[39;49m\u001b[43mview\u001b[49m\u001b[43m(\u001b[49m\u001b[38;5;241;43m-\u001b[39;49m\u001b[38;5;241;43m1\u001b[39;49m\u001b[43m)\u001b[49m\n",
      "\u001b[1;31mRuntimeError\u001b[0m: view size is not compatible with input tensor's size and stride (at least one dimension spans across two contiguous subspaces). Use .reshape(...) instead."
     ]
    }
   ],
   "source": [
    "y.view(-1)"
   ]
  },
  {
   "cell_type": "code",
   "execution_count": null,
   "metadata": {},
   "outputs": [
    {
     "data": {
      "text/plain": [
       "tensor([0, 3, 1, 4, 2, 5])"
      ]
     },
     "execution_count": 54,
     "metadata": {},
     "output_type": "execute_result"
    }
   ],
   "source": [
    "y.reshape(-1)"
   ]
  },
  {
   "cell_type": "markdown",
   "metadata": {},
   "source": []
  }
 ],
 "metadata": {
  "kernelspec": {
   "display_name": "Python 3",
   "language": "python",
   "name": "python3"
  },
  "language_info": {
   "codemirror_mode": {
    "name": "ipython",
    "version": 3
   },
   "file_extension": ".py",
   "mimetype": "text/x-python",
   "name": "python",
   "nbconvert_exporter": "python",
   "pygments_lexer": "ipython3",
   "version": "3.11.1"
  }
 },
 "nbformat": 4,
 "nbformat_minor": 2
}
